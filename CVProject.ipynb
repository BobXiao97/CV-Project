{
  "nbformat": 4,
  "nbformat_minor": 0,
  "metadata": {
    "colab": {
      "name": "CVProject.ipynb",
      "provenance": [],
      "collapsed_sections": [],
      "machine_shape": "hm"
    },
    "kernelspec": {
      "name": "python3",
      "display_name": "Python 3"
    },
    "language_info": {
      "name": "python"
    },
    "accelerator": "GPU"
  },
  "cells": [
    {
      "cell_type": "code",
      "metadata": {
        "id": "XvM7I4k5Swy-",
        "colab": {
          "base_uri": "https://localhost:8080/"
        },
        "outputId": "6eba9f32-ee91-432b-a9bb-e6ff0e997f73"
      },
      "source": [
        "pip install -qr https://raw.githubusercontent.com/ultralytics/yolov5/master/requirements.txt"
      ],
      "execution_count": null,
      "outputs": [
        {
          "output_type": "stream",
          "text": [
            "\u001b[?25l\r\u001b[K     |▌                               | 10kB 20.1MB/s eta 0:00:01\r\u001b[K     |█                               | 20kB 13.0MB/s eta 0:00:01\r\u001b[K     |█▌                              | 30kB 8.9MB/s eta 0:00:01\r\u001b[K     |██                              | 40kB 7.8MB/s eta 0:00:01\r\u001b[K     |██▋                             | 51kB 4.4MB/s eta 0:00:01\r\u001b[K     |███                             | 61kB 4.8MB/s eta 0:00:01\r\u001b[K     |███▋                            | 71kB 5.1MB/s eta 0:00:01\r\u001b[K     |████▏                           | 81kB 5.4MB/s eta 0:00:01\r\u001b[K     |████▋                           | 92kB 5.8MB/s eta 0:00:01\r\u001b[K     |█████▏                          | 102kB 5.8MB/s eta 0:00:01\r\u001b[K     |█████▋                          | 112kB 5.8MB/s eta 0:00:01\r\u001b[K     |██████▏                         | 122kB 5.8MB/s eta 0:00:01\r\u001b[K     |██████▊                         | 133kB 5.8MB/s eta 0:00:01\r\u001b[K     |███████▏                        | 143kB 5.8MB/s eta 0:00:01\r\u001b[K     |███████▊                        | 153kB 5.8MB/s eta 0:00:01\r\u001b[K     |████████▎                       | 163kB 5.8MB/s eta 0:00:01\r\u001b[K     |████████▊                       | 174kB 5.8MB/s eta 0:00:01\r\u001b[K     |█████████▎                      | 184kB 5.8MB/s eta 0:00:01\r\u001b[K     |█████████▉                      | 194kB 5.8MB/s eta 0:00:01\r\u001b[K     |██████████▎                     | 204kB 5.8MB/s eta 0:00:01\r\u001b[K     |██████████▉                     | 215kB 5.8MB/s eta 0:00:01\r\u001b[K     |███████████▎                    | 225kB 5.8MB/s eta 0:00:01\r\u001b[K     |███████████▉                    | 235kB 5.8MB/s eta 0:00:01\r\u001b[K     |████████████▍                   | 245kB 5.8MB/s eta 0:00:01\r\u001b[K     |████████████▉                   | 256kB 5.8MB/s eta 0:00:01\r\u001b[K     |█████████████▍                  | 266kB 5.8MB/s eta 0:00:01\r\u001b[K     |██████████████                  | 276kB 5.8MB/s eta 0:00:01\r\u001b[K     |██████████████▍                 | 286kB 5.8MB/s eta 0:00:01\r\u001b[K     |███████████████                 | 296kB 5.8MB/s eta 0:00:01\r\u001b[K     |███████████████▍                | 307kB 5.8MB/s eta 0:00:01\r\u001b[K     |████████████████                | 317kB 5.8MB/s eta 0:00:01\r\u001b[K     |████████████████▌               | 327kB 5.8MB/s eta 0:00:01\r\u001b[K     |█████████████████               | 337kB 5.8MB/s eta 0:00:01\r\u001b[K     |█████████████████▌              | 348kB 5.8MB/s eta 0:00:01\r\u001b[K     |██████████████████              | 358kB 5.8MB/s eta 0:00:01\r\u001b[K     |██████████████████▌             | 368kB 5.8MB/s eta 0:00:01\r\u001b[K     |███████████████████             | 378kB 5.8MB/s eta 0:00:01\r\u001b[K     |███████████████████▋            | 389kB 5.8MB/s eta 0:00:01\r\u001b[K     |████████████████████            | 399kB 5.8MB/s eta 0:00:01\r\u001b[K     |████████████████████▋           | 409kB 5.8MB/s eta 0:00:01\r\u001b[K     |█████████████████████           | 419kB 5.8MB/s eta 0:00:01\r\u001b[K     |█████████████████████▋          | 430kB 5.8MB/s eta 0:00:01\r\u001b[K     |██████████████████████▏         | 440kB 5.8MB/s eta 0:00:01\r\u001b[K     |██████████████████████▋         | 450kB 5.8MB/s eta 0:00:01\r\u001b[K     |███████████████████████▏        | 460kB 5.8MB/s eta 0:00:01\r\u001b[K     |███████████████████████▊        | 471kB 5.8MB/s eta 0:00:01\r\u001b[K     |████████████████████████▏       | 481kB 5.8MB/s eta 0:00:01\r\u001b[K     |████████████████████████▊       | 491kB 5.8MB/s eta 0:00:01\r\u001b[K     |█████████████████████████▏      | 501kB 5.8MB/s eta 0:00:01\r\u001b[K     |█████████████████████████▊      | 512kB 5.8MB/s eta 0:00:01\r\u001b[K     |██████████████████████████▎     | 522kB 5.8MB/s eta 0:00:01\r\u001b[K     |██████████████████████████▊     | 532kB 5.8MB/s eta 0:00:01\r\u001b[K     |███████████████████████████▎    | 542kB 5.8MB/s eta 0:00:01\r\u001b[K     |███████████████████████████▉    | 552kB 5.8MB/s eta 0:00:01\r\u001b[K     |████████████████████████████▎   | 563kB 5.8MB/s eta 0:00:01\r\u001b[K     |████████████████████████████▉   | 573kB 5.8MB/s eta 0:00:01\r\u001b[K     |█████████████████████████████▍  | 583kB 5.8MB/s eta 0:00:01\r\u001b[K     |█████████████████████████████▉  | 593kB 5.8MB/s eta 0:00:01\r\u001b[K     |██████████████████████████████▍ | 604kB 5.8MB/s eta 0:00:01\r\u001b[K     |██████████████████████████████▉ | 614kB 5.8MB/s eta 0:00:01\r\u001b[K     |███████████████████████████████▍| 624kB 5.8MB/s eta 0:00:01\r\u001b[K     |████████████████████████████████| 634kB 5.8MB/s eta 0:00:01\r\u001b[K     |████████████████████████████████| 645kB 5.8MB/s \n",
            "\u001b[?25h"
          ],
          "name": "stdout"
        }
      ]
    },
    {
      "cell_type": "code",
      "metadata": {
        "colab": {
          "base_uri": "https://localhost:8080/"
        },
        "id": "0MITcQ2RMXJE",
        "outputId": "c4f93ac3-94b6-42bc-83fe-137c31f6d6c5"
      },
      "source": [
        "!git clone https://github.com/BobXiao97/CV-Project.git"
      ],
      "execution_count": null,
      "outputs": [
        {
          "output_type": "stream",
          "text": [
            "Cloning into 'CV-Project'...\n",
            "remote: Enumerating objects: 13899, done.\u001b[K\n",
            "remote: Total 13899 (delta 0), reused 0 (delta 0), pack-reused 13899\u001b[K\n",
            "Receiving objects: 100% (13899/13899), 2.23 GiB | 24.87 MiB/s, done.\n",
            "Resolving deltas: 100% (67/67), done.\n",
            "Checking out files: 100% (10402/10402), done.\n"
          ],
          "name": "stdout"
        }
      ]
    },
    {
      "cell_type": "code",
      "metadata": {
        "colab": {
          "base_uri": "https://localhost:8080/"
        },
        "id": "E32v0yzgTHzQ",
        "outputId": "12dc6fba-b6a3-4789-efa6-02ec99ecb376"
      },
      "source": [
        "cd CV-Project/yolov5/"
      ],
      "execution_count": null,
      "outputs": [
        {
          "output_type": "stream",
          "text": [
            "/content/CV-Project/yolov5\n"
          ],
          "name": "stdout"
        }
      ]
    },
    {
      "cell_type": "code",
      "metadata": {
        "id": "l6GXoc7XhJDN"
      },
      "source": [
        "!chmod +x weights/download_weights.sh"
      ],
      "execution_count": null,
      "outputs": []
    },
    {
      "cell_type": "code",
      "metadata": {
        "id": "ZklCPcbohm1r",
        "colab": {
          "base_uri": "https://localhost:8080/"
        },
        "outputId": "741be6c6-943c-4c87-9f0e-46d1d8db57b1"
      },
      "source": [
        "!bash weights/download_weights.sh"
      ],
      "execution_count": null,
      "outputs": [
        {
          "output_type": "stream",
          "text": [
            "Downloading https://github.com/ultralytics/yolov5/releases/download/v5.0/yolov5s.pt to yolov5s.pt...\n",
            "100% 14.1M/14.1M [00:00<00:00, 38.4MB/s]\n",
            "\n",
            "Downloading https://github.com/ultralytics/yolov5/releases/download/v5.0/yolov5m.pt to yolov5m.pt...\n",
            "100% 41.1M/41.1M [00:02<00:00, 16.3MB/s]\n",
            "\n",
            "Downloading https://github.com/ultralytics/yolov5/releases/download/v5.0/yolov5l.pt to yolov5l.pt...\n",
            "100% 90.2M/90.2M [00:08<00:00, 11.4MB/s]\n",
            "\n",
            "Downloading https://github.com/ultralytics/yolov5/releases/download/v5.0/yolov5x.pt to yolov5x.pt...\n",
            "100% 168M/168M [00:08<00:00, 20.7MB/s]\n",
            "\n"
          ],
          "name": "stdout"
        }
      ]
    },
    {
      "cell_type": "code",
      "metadata": {
        "colab": {
          "base_uri": "https://localhost:8080/"
        },
        "id": "y5c-Il6gTNNT",
        "outputId": "87a3b96a-aefc-4c1a-8ebb-a8bc95387621"
      },
      "source": [
        "!python train.py --img 1024 --device '0' --weights yolov5s.pt --epoch 20 --single-cls --batch 16"
      ],
      "execution_count": null,
      "outputs": [
        {
          "output_type": "stream",
          "text": [
            "\u001b[34m\u001b[1mgithub: \u001b[0mskipping check (not a git repository)\n",
            "YOLOv5 🚀 a3103b1 torch 1.8.1+cu101 CUDA:0 (Tesla V100-SXM2-16GB, 16160.5MB)\n",
            "\n",
            "Namespace(adam=False, artifact_alias='latest', batch_size=16, bbox_interval=-1, bucket='', cache_images=False, cfg='', data='data/coco128.yaml', device='0', entity=None, epochs=20, evolve=False, exist_ok=False, global_rank=-1, hyp='data/hyp.scratch.yaml', image_weights=False, img_size=[1024, 1024], linear_lr=False, local_rank=-1, multi_scale=False, name='exp', noautoanchor=False, nosave=False, notest=False, project='runs/train', quad=False, rect=False, resume=False, save_dir='runs/train/exp2', save_period=-1, single_cls=True, sync_bn=False, total_batch_size=16, upload_dataset=False, weights='yolov5s.pt', workers=8, world_size=1)\n",
            "\u001b[34m\u001b[1mtensorboard: \u001b[0mStart with 'tensorboard --logdir runs/train', view at http://localhost:6006/\n",
            "2021-04-12 12:17:17.303936: I tensorflow/stream_executor/platform/default/dso_loader.cc:49] Successfully opened dynamic library libcudart.so.11.0\n",
            "\u001b[34m\u001b[1mhyperparameters: \u001b[0mlr0=0.01, lrf=0.2, momentum=0.937, weight_decay=0.0005, warmup_epochs=3.0, warmup_momentum=0.8, warmup_bias_lr=0.1, box=0.05, cls=0.5, cls_pw=1.0, obj=1.0, obj_pw=1.0, iou_t=0.2, anchor_t=4.0, fl_gamma=0.0, hsv_h=0.015, hsv_s=0.7, hsv_v=0.4, degrees=0.0, translate=0.1, scale=0.5, shear=0.0, perspective=0.0, flipud=0.0, fliplr=0.5, mosaic=1.0, mixup=0.0\n",
            "\u001b[34m\u001b[1mwandb: \u001b[0mInstall Weights & Biases for YOLOv5 logging with 'pip install wandb' (recommended)\n",
            "Overriding model.yaml nc=80 with nc=1\n",
            "\n",
            "                 from  n    params  module                                  arguments                     \n",
            "  0                -1  1      3520  models.common.Focus                     [3, 32, 3]                    \n",
            "  1                -1  1     18560  models.common.Conv                      [32, 64, 3, 2]                \n",
            "  2                -1  1     18816  models.common.C3                        [64, 64, 1]                   \n",
            "  3                -1  1     73984  models.common.Conv                      [64, 128, 3, 2]               \n",
            "  4                -1  1    156928  models.common.C3                        [128, 128, 3]                 \n",
            "  5                -1  1    295424  models.common.Conv                      [128, 256, 3, 2]              \n",
            "  6                -1  1    625152  models.common.C3                        [256, 256, 3]                 \n",
            "  7                -1  1   1180672  models.common.Conv                      [256, 512, 3, 2]              \n",
            "  8                -1  1    656896  models.common.SPP                       [512, 512, [5, 9, 13]]        \n",
            "  9                -1  1   1182720  models.common.C3                        [512, 512, 1, False]          \n",
            " 10                -1  1    131584  models.common.Conv                      [512, 256, 1, 1]              \n",
            " 11                -1  1         0  torch.nn.modules.upsampling.Upsample    [None, 2, 'nearest']          \n",
            " 12           [-1, 6]  1         0  models.common.Concat                    [1]                           \n",
            " 13                -1  1    361984  models.common.C3                        [512, 256, 1, False]          \n",
            " 14                -1  1     33024  models.common.Conv                      [256, 128, 1, 1]              \n",
            " 15                -1  1         0  torch.nn.modules.upsampling.Upsample    [None, 2, 'nearest']          \n",
            " 16           [-1, 4]  1         0  models.common.Concat                    [1]                           \n",
            " 17                -1  1     90880  models.common.C3                        [256, 128, 1, False]          \n",
            " 18                -1  1    147712  models.common.Conv                      [128, 128, 3, 2]              \n",
            " 19          [-1, 14]  1         0  models.common.Concat                    [1]                           \n",
            " 20                -1  1    296448  models.common.C3                        [256, 256, 1, False]          \n",
            " 21                -1  1    590336  models.common.Conv                      [256, 256, 3, 2]              \n",
            " 22          [-1, 10]  1         0  models.common.Concat                    [1]                           \n",
            " 23                -1  1   1182720  models.common.C3                        [512, 512, 1, False]          \n",
            " 24      [17, 20, 23]  1     16182  models.yolo.Detect                      [1, [[10, 13, 16, 30, 33, 23], [30, 61, 62, 45, 59, 119], [116, 90, 156, 198, 373, 326]], [128, 256, 512]]\n",
            "Model Summary: 283 layers, 7063542 parameters, 7063542 gradients, 16.4 GFLOPS\n",
            "\n",
            "Transferred 356/362 items from yolov5s.pt\n",
            "Scaled weight_decay = 0.0005\n",
            "Optimizer groups: 62 .bias, 62 conv.weight, 59 other\n",
            "\u001b[34m\u001b[1mtrain: \u001b[0mScanning '../coco128/labels/train_hist_equal' images and labels... 3392 found, 0 missing, 48 empty, 0 corrupted: 100% 3392/3392 [00:01<00:00, 2337.70it/s]\n",
            "\u001b[34m\u001b[1mtrain: \u001b[0mNew cache created: ../coco128/labels/train_hist_equal.cache\n",
            "\u001b[34m\u001b[1mval: \u001b[0mScanning '../coco128/labels/val_hist_equal' images and labels... 30 found, 0 missing, 1 empty, 0 corrupted: 100% 30/30 [00:00<00:00, 1021.20it/s]\n",
            "\u001b[34m\u001b[1mval: \u001b[0mNew cache created: ../coco128/labels/val_hist_equal.cache\n",
            "Plotting labels... \n",
            "\n",
            "\u001b[34m\u001b[1mautoanchor: \u001b[0mAnalyzing anchors... anchors/target = 5.72, Best Possible Recall (BPR) = 0.9992\n",
            "Image sizes 1024 train, 1024 test\n",
            "Using 2 dataloader workers\n",
            "Logging results to runs/train/exp2\n",
            "Starting training for 20 epochs...\n",
            "\n",
            "     Epoch   gpu_mem       box       obj       cls     total    labels  img_size\n",
            "      0/19     7.81G   0.08348    0.3822         0    0.4657       800      1024: 100% 212/212 [04:47<00:00,  1.35s/it]\n",
            "               Class      Images      Labels           P           R      mAP@.5  mAP@.5:.95: 100% 1/1 [00:03<00:00,  3.53s/it]\n",
            "                 all          30        1119       0.494       0.488       0.463       0.137\n",
            "\n",
            "     Epoch   gpu_mem       box       obj       cls     total    labels  img_size\n",
            "      1/19     7.19G   0.05818    0.3321         0    0.3903      1025      1024: 100% 212/212 [04:42<00:00,  1.33s/it]\n",
            "               Class      Images      Labels           P           R      mAP@.5  mAP@.5:.95: 100% 1/1 [00:01<00:00,  1.13s/it]\n",
            "                 all          30        1119       0.767       0.794       0.783         0.3\n",
            "\n",
            "     Epoch   gpu_mem       box       obj       cls     total    labels  img_size\n",
            "      2/19     7.19G   0.05177     0.338         0    0.3897       969      1024:  27% 57/212 [01:15<03:15,  1.26s/it]"
          ],
          "name": "stdout"
        }
      ]
    },
    {
      "cell_type": "code",
      "metadata": {
        "colab": {
          "base_uri": "https://localhost:8080/"
        },
        "id": "YcSNXOSe4CMg",
        "outputId": "8c41421d-669a-49ff-fed8-fb2315d174fd"
      },
      "source": [
        "!python detect.py --img 1024 --weights runs/train/exp2/weights/best.pt --source test-images-hist-equal --device 0 "
      ],
      "execution_count": null,
      "outputs": [
        {
          "output_type": "stream",
          "text": [
            "Namespace(agnostic_nms=False, augment=False, classes=None, conf_thres=0.25, device='0', exist_ok=False, img_size=1024, iou_thres=0.45, name='exp', nosave=False, project='runs/detect', save_conf=False, save_txt=False, source='test-images', update=False, view_img=False, weights=['runs/train/exp7/weights/best.pt'])\n",
            "YOLOv5 🚀 d6327b1 torch 1.8.1+cu101 CUDA:0 (Tesla P100-PCIE-16GB, 16280.875MB)\n",
            "\n",
            "Fusing layers... \n",
            "Model Summary: 224 layers, 7053910 parameters, 0 gradients, 16.3 GFLOPS\n",
            "image 1/10 /content/CV-Project/yolov5/test-images/2fd875eaa.jpg: 1024x1024 29 wheats, Done. (0.016s)\n",
            "image 2/10 /content/CV-Project/yolov5/test-images/348a992bb.jpg: 1024x1024 39 wheats, Done. (0.016s)\n",
            "image 3/10 /content/CV-Project/yolov5/test-images/51b3e36ab.jpg: 1024x1024 25 wheats, Done. (0.016s)\n",
            "image 4/10 /content/CV-Project/yolov5/test-images/51f1be19e.jpg: 1024x1024 19 wheats, Done. (0.016s)\n",
            "image 5/10 /content/CV-Project/yolov5/test-images/53f253011.jpg: 1024x1024 30 wheats, Done. (0.016s)\n",
            "image 6/10 /content/CV-Project/yolov5/test-images/796707dd7.jpg: 1024x1024 25 wheats, Done. (0.016s)\n",
            "image 7/10 /content/CV-Project/yolov5/test-images/aac893a91.jpg: 1024x1024 23 wheats, Done. (0.016s)\n",
            "image 8/10 /content/CV-Project/yolov5/test-images/cb8d261a3.jpg: 1024x1024 25 wheats, Done. (0.016s)\n",
            "image 9/10 /content/CV-Project/yolov5/test-images/cc3532ff6.jpg: 1024x1024 27 wheats, Done. (0.016s)\n",
            "image 10/10 /content/CV-Project/yolov5/test-images/f5a1f0358.jpg: 1024x1024 30 wheats, Done. (0.016s)\n",
            "Results saved to runs/detect/exp\n",
            "Done. (0.668s)\n"
          ],
          "name": "stdout"
        }
      ]
    }
  ]
}